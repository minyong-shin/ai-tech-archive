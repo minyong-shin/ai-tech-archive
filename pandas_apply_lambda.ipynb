{
  "nbformat": 4,
  "nbformat_minor": 0,
  "metadata": {
    "colab": {
      "name": "pandas_apply lambda.ipynb",
      "provenance": [],
      "authorship_tag": "ABX9TyObn3iueT5WQEel70Pl8CQ7",
      "include_colab_link": true
    },
    "kernelspec": {
      "name": "python3",
      "display_name": "Python 3"
    }
  },
  "cells": [
    {
      "cell_type": "markdown",
      "metadata": {
        "id": "view-in-github",
        "colab_type": "text"
      },
      "source": [
        "<a href=\"https://colab.research.google.com/github/sohyunwriter/ai-tech-archive/blob/master/pandas_apply_lambda.ipynb\" target=\"_parent\"><img src=\"https://colab.research.google.com/assets/colab-badge.svg\" alt=\"Open In Colab\"/></a>"
      ]
    },
    {
      "cell_type": "markdown",
      "metadata": {
        "id": "wbn8zMgSWgwQ",
        "colab_type": "text"
      },
      "source": [
        "## lambda 식으로 데이터 가공      \n",
        "Assembled by Sohyeon Yim (2020-06-23)      \n",
        "   \n",
        "-정의 : 익명 함수로, 간결한 함수형 프로그래밍 지원   \n",
        "\n",
        "-장점   \n",
        "1) **코드의 간결성** - 람다식을 사용하면 불필요한 루프문 삭제 가능   \n",
        "2) 필요한 정보만을 사용하는 방식을 통한 **메모리상의 효율성, 불필요한 연산 배제 가능**   \n",
        "\n",
        "-단점   \n",
        "1) 어떤 방법으로 작성해도 모든 원소를 전부 순회하는 경우 람다식이 단순 반복문보다 느리다. **최종 출력되는 bytecode나 어셈블리 코드는 더 길다.**   \n",
        "2) 디버깅 시 **함수 콜스택 추적이 어렵다.**   \n",
        "3) 람다식을 남용하면 오히려 **코드를 이해하기 어려울 수 있다.**   "
      ]
    },
    {
      "cell_type": "markdown",
      "metadata": {
        "id": "buEzxPVkdif8",
        "colab_type": "text"
      },
      "source": [
        "#### lambda 식   \n",
        "(예) lambda x : x ** 2   \n",
        ": 의 왼쪽에 있는 x는 입력 인자,    \n",
        ": 의 오른쪽은 입력 인자의 계산식, 호출 시 이 계산 결과를 반환   "
      ]
    },
    {
      "cell_type": "code",
      "metadata": {
        "id": "qrZhreYETPHR",
        "colab_type": "code",
        "colab": {
          "base_uri": "https://localhost:8080/",
          "height": 34
        },
        "outputId": "def9f2df-8512-4c9c-e025-4a67cd3ea30b"
      },
      "source": [
        "# lambda 식을 쓰지 않는 경우\n",
        "def get_square(a):\n",
        "  return a**2\n",
        "\n",
        "print('3의 제곱은:', get_square(3))"
      ],
      "execution_count": 1,
      "outputs": [
        {
          "output_type": "stream",
          "text": [
            "3의 제곱은: 9\n"
          ],
          "name": "stdout"
        }
      ]
    },
    {
      "cell_type": "code",
      "metadata": {
        "id": "9V7evnn1Td0I",
        "colab_type": "code",
        "colab": {
          "base_uri": "https://localhost:8080/",
          "height": 34
        },
        "outputId": "4e974c2c-b676-46e7-c64b-ac2352c4757b"
      },
      "source": [
        "# lambda 식을 쓸 경우\n",
        "lambda_square = lambda x : x ** 2\n",
        "print('3의 제곱은:', lambda_square(3))"
      ],
      "execution_count": 3,
      "outputs": [
        {
          "output_type": "stream",
          "text": [
            "3의 제곱은: 9\n"
          ],
          "name": "stdout"
        }
      ]
    },
    {
      "cell_type": "markdown",
      "metadata": {
        "id": "VGwI3cBad6Tr",
        "colab_type": "text"
      },
      "source": [
        "#### lambda 식과 map()   "
      ]
    },
    {
      "cell_type": "code",
      "metadata": {
        "id": "ctk_tMprTmYg",
        "colab_type": "code",
        "colab": {
          "base_uri": "https://localhost:8080/",
          "height": 34
        },
        "outputId": "1d60f773-b2bf-4849-8b79-077df8191e96"
      },
      "source": [
        "# 여러 개의 값을 입력 인자로 사용할 경우\n",
        "a = [1, 2, 3]\n",
        "squares = map(lambda x : x**2, a)\n",
        "list(squares)"
      ],
      "execution_count": 4,
      "outputs": [
        {
          "output_type": "execute_result",
          "data": {
            "text/plain": [
              "[1, 4, 9]"
            ]
          },
          "metadata": {
            "tags": []
          },
          "execution_count": 4
        }
      ]
    },
    {
      "cell_type": "code",
      "metadata": {
        "id": "Ry3RyuoLUvf-",
        "colab_type": "code",
        "colab": {}
      },
      "source": [
        "# (예) 문자열 리스트에서 lambda 식을 활용해 양끝 공백 제거하기\n",
        "b = [' I ', 'love', 'you ', '. ', 'Do    ', 'you    ', '    love', '   me', '?']"
      ],
      "execution_count": 11,
      "outputs": []
    },
    {
      "cell_type": "code",
      "metadata": {
        "id": "pd0xJQGSUv_Q",
        "colab_type": "code",
        "colab": {
          "base_uri": "https://localhost:8080/",
          "height": 34
        },
        "outputId": "74c8130f-3fa6-4415-ca7b-67396873d516"
      },
      "source": [
        "cleaned = map(lambda x : x.strip(), b)\n",
        "list(cleaned)"
      ],
      "execution_count": 12,
      "outputs": [
        {
          "output_type": "execute_result",
          "data": {
            "text/plain": [
              "['I', 'love', 'you', '.', 'Do', 'you', 'love', 'me', '?']"
            ]
          },
          "metadata": {
            "tags": []
          },
          "execution_count": 12
        }
      ]
    },
    {
      "cell_type": "markdown",
      "metadata": {
        "id": "GuNrNI3peFR4",
        "colab_type": "text"
      },
      "source": [
        "#### pandas 에서 lambda 식 사용하기   "
      ]
    },
    {
      "cell_type": "code",
      "metadata": {
        "id": "GKRAnNltUwH_",
        "colab_type": "code",
        "colab": {}
      },
      "source": [
        "# apply lambda\n",
        "from sklearn.datasets import load_wine\n",
        "import pandas as pd\n",
        "wine = load_wine()"
      ],
      "execution_count": 26,
      "outputs": []
    },
    {
      "cell_type": "code",
      "metadata": {
        "id": "eH8hXbr6ahGP",
        "colab_type": "code",
        "colab": {}
      },
      "source": [
        "df = pd.DataFrame(data=wine.data, columns=wine.feature_names)"
      ],
      "execution_count": 27,
      "outputs": []
    },
    {
      "cell_type": "code",
      "metadata": {
        "id": "bcfE3kawahil",
        "colab_type": "code",
        "colab": {
          "base_uri": "https://localhost:8080/",
          "height": 215
        },
        "outputId": "d7d6549a-a7bf-4b92-8ca2-324184d2759d"
      },
      "source": [
        "df.head()"
      ],
      "execution_count": 28,
      "outputs": [
        {
          "output_type": "execute_result",
          "data": {
            "text/html": [
              "<div>\n",
              "<style scoped>\n",
              "    .dataframe tbody tr th:only-of-type {\n",
              "        vertical-align: middle;\n",
              "    }\n",
              "\n",
              "    .dataframe tbody tr th {\n",
              "        vertical-align: top;\n",
              "    }\n",
              "\n",
              "    .dataframe thead th {\n",
              "        text-align: right;\n",
              "    }\n",
              "</style>\n",
              "<table border=\"1\" class=\"dataframe\">\n",
              "  <thead>\n",
              "    <tr style=\"text-align: right;\">\n",
              "      <th></th>\n",
              "      <th>alcohol</th>\n",
              "      <th>malic_acid</th>\n",
              "      <th>ash</th>\n",
              "      <th>alcalinity_of_ash</th>\n",
              "      <th>magnesium</th>\n",
              "      <th>total_phenols</th>\n",
              "      <th>flavanoids</th>\n",
              "      <th>nonflavanoid_phenols</th>\n",
              "      <th>proanthocyanins</th>\n",
              "      <th>color_intensity</th>\n",
              "      <th>hue</th>\n",
              "      <th>od280/od315_of_diluted_wines</th>\n",
              "      <th>proline</th>\n",
              "    </tr>\n",
              "  </thead>\n",
              "  <tbody>\n",
              "    <tr>\n",
              "      <th>0</th>\n",
              "      <td>14.23</td>\n",
              "      <td>1.71</td>\n",
              "      <td>2.43</td>\n",
              "      <td>15.6</td>\n",
              "      <td>127.0</td>\n",
              "      <td>2.80</td>\n",
              "      <td>3.06</td>\n",
              "      <td>0.28</td>\n",
              "      <td>2.29</td>\n",
              "      <td>5.64</td>\n",
              "      <td>1.04</td>\n",
              "      <td>3.92</td>\n",
              "      <td>1065.0</td>\n",
              "    </tr>\n",
              "    <tr>\n",
              "      <th>1</th>\n",
              "      <td>13.20</td>\n",
              "      <td>1.78</td>\n",
              "      <td>2.14</td>\n",
              "      <td>11.2</td>\n",
              "      <td>100.0</td>\n",
              "      <td>2.65</td>\n",
              "      <td>2.76</td>\n",
              "      <td>0.26</td>\n",
              "      <td>1.28</td>\n",
              "      <td>4.38</td>\n",
              "      <td>1.05</td>\n",
              "      <td>3.40</td>\n",
              "      <td>1050.0</td>\n",
              "    </tr>\n",
              "    <tr>\n",
              "      <th>2</th>\n",
              "      <td>13.16</td>\n",
              "      <td>2.36</td>\n",
              "      <td>2.67</td>\n",
              "      <td>18.6</td>\n",
              "      <td>101.0</td>\n",
              "      <td>2.80</td>\n",
              "      <td>3.24</td>\n",
              "      <td>0.30</td>\n",
              "      <td>2.81</td>\n",
              "      <td>5.68</td>\n",
              "      <td>1.03</td>\n",
              "      <td>3.17</td>\n",
              "      <td>1185.0</td>\n",
              "    </tr>\n",
              "    <tr>\n",
              "      <th>3</th>\n",
              "      <td>14.37</td>\n",
              "      <td>1.95</td>\n",
              "      <td>2.50</td>\n",
              "      <td>16.8</td>\n",
              "      <td>113.0</td>\n",
              "      <td>3.85</td>\n",
              "      <td>3.49</td>\n",
              "      <td>0.24</td>\n",
              "      <td>2.18</td>\n",
              "      <td>7.80</td>\n",
              "      <td>0.86</td>\n",
              "      <td>3.45</td>\n",
              "      <td>1480.0</td>\n",
              "    </tr>\n",
              "    <tr>\n",
              "      <th>4</th>\n",
              "      <td>13.24</td>\n",
              "      <td>2.59</td>\n",
              "      <td>2.87</td>\n",
              "      <td>21.0</td>\n",
              "      <td>118.0</td>\n",
              "      <td>2.80</td>\n",
              "      <td>2.69</td>\n",
              "      <td>0.39</td>\n",
              "      <td>1.82</td>\n",
              "      <td>4.32</td>\n",
              "      <td>1.04</td>\n",
              "      <td>2.93</td>\n",
              "      <td>735.0</td>\n",
              "    </tr>\n",
              "  </tbody>\n",
              "</table>\n",
              "</div>"
            ],
            "text/plain": [
              "   alcohol  malic_acid   ash  ...   hue  od280/od315_of_diluted_wines  proline\n",
              "0    14.23        1.71  2.43  ...  1.04                          3.92   1065.0\n",
              "1    13.20        1.78  2.14  ...  1.05                          3.40   1050.0\n",
              "2    13.16        2.36  2.67  ...  1.03                          3.17   1185.0\n",
              "3    14.37        1.95  2.50  ...  0.86                          3.45   1480.0\n",
              "4    13.24        2.59  2.87  ...  1.04                          2.93    735.0\n",
              "\n",
              "[5 rows x 13 columns]"
            ]
          },
          "metadata": {
            "tags": []
          },
          "execution_count": 28
        }
      ]
    },
    {
      "cell_type": "code",
      "metadata": {
        "id": "OKnzkDygc1bo",
        "colab_type": "code",
        "colab": {
          "base_uri": "https://localhost:8080/",
          "height": 195
        },
        "outputId": "98ad8625-18cf-4621-82e8-8d7489c1481c"
      },
      "source": [
        "# alcohol을 모두 5도씩 올리기\n",
        "df['new_alcohol'] = df['alcohol'].apply(lambda x : x + 5)\n",
        "df[['alcohol', 'new_alcohol']].head()"
      ],
      "execution_count": 35,
      "outputs": [
        {
          "output_type": "execute_result",
          "data": {
            "text/html": [
              "<div>\n",
              "<style scoped>\n",
              "    .dataframe tbody tr th:only-of-type {\n",
              "        vertical-align: middle;\n",
              "    }\n",
              "\n",
              "    .dataframe tbody tr th {\n",
              "        vertical-align: top;\n",
              "    }\n",
              "\n",
              "    .dataframe thead th {\n",
              "        text-align: right;\n",
              "    }\n",
              "</style>\n",
              "<table border=\"1\" class=\"dataframe\">\n",
              "  <thead>\n",
              "    <tr style=\"text-align: right;\">\n",
              "      <th></th>\n",
              "      <th>alcohol</th>\n",
              "      <th>new_alcohol</th>\n",
              "    </tr>\n",
              "  </thead>\n",
              "  <tbody>\n",
              "    <tr>\n",
              "      <th>0</th>\n",
              "      <td>14.23</td>\n",
              "      <td>19.23</td>\n",
              "    </tr>\n",
              "    <tr>\n",
              "      <th>1</th>\n",
              "      <td>13.20</td>\n",
              "      <td>18.20</td>\n",
              "    </tr>\n",
              "    <tr>\n",
              "      <th>2</th>\n",
              "      <td>13.16</td>\n",
              "      <td>18.16</td>\n",
              "    </tr>\n",
              "    <tr>\n",
              "      <th>3</th>\n",
              "      <td>14.37</td>\n",
              "      <td>19.37</td>\n",
              "    </tr>\n",
              "    <tr>\n",
              "      <th>4</th>\n",
              "      <td>13.24</td>\n",
              "      <td>18.24</td>\n",
              "    </tr>\n",
              "  </tbody>\n",
              "</table>\n",
              "</div>"
            ],
            "text/plain": [
              "   alcohol  new_alcohol\n",
              "0    14.23        19.23\n",
              "1    13.20        18.20\n",
              "2    13.16        18.16\n",
              "3    14.37        19.37\n",
              "4    13.24        18.24"
            ]
          },
          "metadata": {
            "tags": []
          },
          "execution_count": 35
        }
      ]
    },
    {
      "cell_type": "markdown",
      "metadata": {
        "id": "0QJNK5qDh-9k",
        "colab_type": "text"
      },
      "source": [
        "#### lambda 식에서 if else 사용하기   \n",
        "lambda x : 'Child' if x <= 15 else 'Adult'   \n",
        ":의 왼쪽 값은 입력값   \n",
        ":의 오른쪽 값은 반환값   \n",
        "if x <= 15이면 'Child' 반환   \n",
        "else이면 'Adult' 반환   "
      ]
    },
    {
      "cell_type": "code",
      "metadata": {
        "id": "WOPPr9fNahS6",
        "colab_type": "code",
        "colab": {
          "base_uri": "https://localhost:8080/",
          "height": 195
        },
        "outputId": "627ea26c-e487-4489-856a-011a530b1027"
      },
      "source": [
        "# proline이 1000이 넘어가는 경우를 체크하는 컬럼 만들기\n",
        "df['proline_larger_than_1000'] = df['proline'].apply(lambda x : 1 if x > 1000 else 0) # else일 때 무얼 반환할지를 꼭 만들어야 함\n",
        "df[['proline', 'proline_larger_than_1000']].head(5)"
      ],
      "execution_count": 33,
      "outputs": [
        {
          "output_type": "execute_result",
          "data": {
            "text/html": [
              "<div>\n",
              "<style scoped>\n",
              "    .dataframe tbody tr th:only-of-type {\n",
              "        vertical-align: middle;\n",
              "    }\n",
              "\n",
              "    .dataframe tbody tr th {\n",
              "        vertical-align: top;\n",
              "    }\n",
              "\n",
              "    .dataframe thead th {\n",
              "        text-align: right;\n",
              "    }\n",
              "</style>\n",
              "<table border=\"1\" class=\"dataframe\">\n",
              "  <thead>\n",
              "    <tr style=\"text-align: right;\">\n",
              "      <th></th>\n",
              "      <th>proline</th>\n",
              "      <th>proline_larger_than_1000</th>\n",
              "    </tr>\n",
              "  </thead>\n",
              "  <tbody>\n",
              "    <tr>\n",
              "      <th>0</th>\n",
              "      <td>1065.0</td>\n",
              "      <td>1</td>\n",
              "    </tr>\n",
              "    <tr>\n",
              "      <th>1</th>\n",
              "      <td>1050.0</td>\n",
              "      <td>1</td>\n",
              "    </tr>\n",
              "    <tr>\n",
              "      <th>2</th>\n",
              "      <td>1185.0</td>\n",
              "      <td>1</td>\n",
              "    </tr>\n",
              "    <tr>\n",
              "      <th>3</th>\n",
              "      <td>1480.0</td>\n",
              "      <td>1</td>\n",
              "    </tr>\n",
              "    <tr>\n",
              "      <th>4</th>\n",
              "      <td>735.0</td>\n",
              "      <td>0</td>\n",
              "    </tr>\n",
              "  </tbody>\n",
              "</table>\n",
              "</div>"
            ],
            "text/plain": [
              "   proline  proline_larger_than_1000\n",
              "0   1065.0                         1\n",
              "1   1050.0                         1\n",
              "2   1185.0                         1\n",
              "3   1480.0                         1\n",
              "4    735.0                         0"
            ]
          },
          "metadata": {
            "tags": []
          },
          "execution_count": 33
        }
      ]
    },
    {
      "cell_type": "code",
      "metadata": {
        "id": "HeU1pVAnetgh",
        "colab_type": "code",
        "colab": {
          "base_uri": "https://localhost:8080/",
          "height": 34
        },
        "outputId": "3901699c-3cf0-4de0-c905-4c8d3dcb6b39"
      },
      "source": [
        "df['alcohol'].max()"
      ],
      "execution_count": 39,
      "outputs": [
        {
          "output_type": "execute_result",
          "data": {
            "text/plain": [
              "14.83"
            ]
          },
          "metadata": {
            "tags": []
          },
          "execution_count": 39
        }
      ]
    },
    {
      "cell_type": "code",
      "metadata": {
        "id": "Zg_EJWQ8e04Z",
        "colab_type": "code",
        "colab": {
          "base_uri": "https://localhost:8080/",
          "height": 34
        },
        "outputId": "d23379d0-aa4e-4dd0-f7d7-1adf7900d34f"
      },
      "source": [
        "df['alcohol'].min()"
      ],
      "execution_count": 40,
      "outputs": [
        {
          "output_type": "execute_result",
          "data": {
            "text/plain": [
              "11.03"
            ]
          },
          "metadata": {
            "tags": []
          },
          "execution_count": 40
        }
      ]
    },
    {
      "cell_type": "code",
      "metadata": {
        "id": "khLulLqJe9lG",
        "colab_type": "code",
        "colab": {
          "base_uri": "https://localhost:8080/",
          "height": 286
        },
        "outputId": "9bf46612-4b75-4cf2-87fc-73fe591a0bf2"
      },
      "source": [
        "import seaborn as sns\n",
        "%matplotlib inline\n",
        "import matplotlib.pyplot as plt\n",
        "import warnings\n",
        "warnings.filterwarnings(\"ignore\")\n",
        "\n",
        "df['alcohol'].plot.box()"
      ],
      "execution_count": 47,
      "outputs": [
        {
          "output_type": "execute_result",
          "data": {
            "text/plain": [
              "<matplotlib.axes._subplots.AxesSubplot at 0x7fbcf52b5908>"
            ]
          },
          "metadata": {
            "tags": []
          },
          "execution_count": 47
        },
        {
          "output_type": "display_data",
          "data": {
            "image/png": "[encoded data removed]",
            "text/plain": [
              "<Figure size 432x288 with 1 Axes>"
            ]
          },
          "metadata": {
            "tags": [],
            "needs_background": "light"
          }
        }
      ]
    },
    {
      "cell_type": "code",
      "metadata": {
        "id": "Aul162Xmcy5c",
        "colab_type": "code",
        "colab": {}
      },
      "source": [
        "# alcohol에 따라 세분화된 분류를 수행하는 함수 생성\n",
        "def get_category(alcohol):\n",
        "  cat = ''\n",
        "  if alcohol <= 12.0 : cat = 'alsss'\n",
        "  elif alcohol <= 13.0 : cat = 'baby'\n",
        "  elif alcohol <= 14.0 : cat = 'no name'\n",
        "  else : cat = 'adult'\n",
        "  return cat"
      ],
      "execution_count": 52,
      "outputs": []
    },
    {
      "cell_type": "code",
      "metadata": {
        "id": "wF1AtWK4g_JH",
        "colab_type": "code",
        "colab": {
          "base_uri": "https://localhost:8080/",
          "height": 195
        },
        "outputId": "f5142910-88c0-461f-e1a1-5092c6628d79"
      },
      "source": [
        "# lambda 식에서 get_categry() 함수를 반환값으로 지정\n",
        "df['alcohol_cat'] = df['alcohol'].apply(lambda x : get_category(x))\n",
        "df[['alcohol', 'alcohol_cat']].head()"
      ],
      "execution_count": 53,
      "outputs": [
        {
          "output_type": "execute_result",
          "data": {
            "text/html": [
              "<div>\n",
              "<style scoped>\n",
              "    .dataframe tbody tr th:only-of-type {\n",
              "        vertical-align: middle;\n",
              "    }\n",
              "\n",
              "    .dataframe tbody tr th {\n",
              "        vertical-align: top;\n",
              "    }\n",
              "\n",
              "    .dataframe thead th {\n",
              "        text-align: right;\n",
              "    }\n",
              "</style>\n",
              "<table border=\"1\" class=\"dataframe\">\n",
              "  <thead>\n",
              "    <tr style=\"text-align: right;\">\n",
              "      <th></th>\n",
              "      <th>alcohol</th>\n",
              "      <th>alcohol_cat</th>\n",
              "    </tr>\n",
              "  </thead>\n",
              "  <tbody>\n",
              "    <tr>\n",
              "      <th>0</th>\n",
              "      <td>14.23</td>\n",
              "      <td>adult</td>\n",
              "    </tr>\n",
              "    <tr>\n",
              "      <th>1</th>\n",
              "      <td>13.20</td>\n",
              "      <td>no name</td>\n",
              "    </tr>\n",
              "    <tr>\n",
              "      <th>2</th>\n",
              "      <td>13.16</td>\n",
              "      <td>no name</td>\n",
              "    </tr>\n",
              "    <tr>\n",
              "      <th>3</th>\n",
              "      <td>14.37</td>\n",
              "      <td>adult</td>\n",
              "    </tr>\n",
              "    <tr>\n",
              "      <th>4</th>\n",
              "      <td>13.24</td>\n",
              "      <td>no name</td>\n",
              "    </tr>\n",
              "  </tbody>\n",
              "</table>\n",
              "</div>"
            ],
            "text/plain": [
              "   alcohol alcohol_cat\n",
              "0    14.23       adult\n",
              "1    13.20     no name\n",
              "2    13.16     no name\n",
              "3    14.37       adult\n",
              "4    13.24     no name"
            ]
          },
          "metadata": {
            "tags": []
          },
          "execution_count": 53
        }
      ]
    },
    {
      "cell_type": "markdown",
      "metadata": {
        "id": "LCjRtQ7dilbZ",
        "colab_type": "text"
      },
      "source": [
        "##### 참고문헌 \n",
        "- 위키북스, \"파이썬 머신러닝 가이드\"\n",
        "- 개인 경험   \n",
        "\n",
        "1) 비정형 데이터에 대해 전처리를 할 때, 단위를 제거하는 등 특정 조작을 가해야할 때 lambda 식을 이용하면 유용하다. 물론 나는 re를 선호하지만 가해야 하는 조작이 많지 않다면 lambda 식을 쓰는 게 나은 것 같다.      \n",
        "2) 또, pandas를 이용하는 가장 큰 이유는 컬럼에 동일한 연산을 할 때 빠르다는건데, 실제 데이터를 처리하다보면 데이터가 난잡한 경우가 많아서 이러한 pandas의 장점이 쓸모가 없게 되는 경우가 있다. 하지만 그럴 때도 for문 등을 만드는 것보다, 함수를 만들어 apply lambda 식을 이용하는 게 가장 깔끔하고 빠른 듯 싶다.\n"
      ]
    }
  ]
}