{
 "cells": [
  {
   "cell_type": "markdown",
   "metadata": {},
   "source": [
    "## sklearn.metrics.roc_curve 산출 원리"
   ]
  },
  {
   "cell_type": "code",
   "execution_count": 99,
   "metadata": {},
   "outputs": [],
   "source": [
    "import numpy as np\n",
    "from sklearn import metrics\n",
    "y = np.array([0, 0, 1, 1])  ## y (실제 값)\n",
    "scores = np.array([0.1, 0.4, 0.35, 0.8]) ## y_pred (모델이 예측한 값)"
   ]
  },
  {
   "cell_type": "code",
   "execution_count": 100,
   "metadata": {},
   "outputs": [
    {
     "data": {
      "text/plain": [
       "1"
      ]
     },
     "execution_count": 100,
     "metadata": {},
     "output_type": "execute_result"
    }
   ],
   "source": [
    "pos_label # positive classs는 1로 봤음"
   ]
  },
  {
   "cell_type": "markdown",
   "metadata": {},
   "source": [
    "#### 사이킷런의 roc_curve 함수 이용"
   ]
  },
  {
   "cell_type": "code",
   "execution_count": 101,
   "metadata": {},
   "outputs": [],
   "source": [
    "## reference : [sklearn.metrics.roc_curve] https://scikit-learn.org/stable/modules/generated/sklearn.metrics.roc_curve.html"
   ]
  },
  {
   "cell_type": "code",
   "execution_count": 102,
   "metadata": {},
   "outputs": [],
   "source": [
    "skl_fpr, skl_tpr, skl_thresholds = metrics.roc_curve(y, scores, pos_label=1)"
   ]
  },
  {
   "cell_type": "code",
   "execution_count": 103,
   "metadata": {},
   "outputs": [
    {
     "data": {
      "text/plain": [
       "array([0. , 0. , 0.5, 0.5, 1. ])"
      ]
     },
     "execution_count": 103,
     "metadata": {},
     "output_type": "execute_result"
    }
   ],
   "source": [
    "skl_fpr # 사이릿런 roc_curve의 fpr"
   ]
  },
  {
   "cell_type": "code",
   "execution_count": 104,
   "metadata": {},
   "outputs": [
    {
     "data": {
      "text/plain": [
       "array([0. , 0.5, 0.5, 1. , 1. ])"
      ]
     },
     "execution_count": 104,
     "metadata": {},
     "output_type": "execute_result"
    }
   ],
   "source": [
    "skl_tpr # 사이릿런 roc_curve의 tpr"
   ]
  },
  {
   "cell_type": "code",
   "execution_count": 105,
   "metadata": {},
   "outputs": [
    {
     "data": {
      "text/plain": [
       "array([1.8 , 0.8 , 0.4 , 0.35, 0.1 ])"
      ]
     },
     "execution_count": 105,
     "metadata": {},
     "output_type": "execute_result"
    }
   ],
   "source": [
    "skl_thresholds # 사이릿런 roc_curve의 thresholds"
   ]
  },
  {
   "cell_type": "code",
   "execution_count": 106,
   "metadata": {},
   "outputs": [],
   "source": [
    "my_thresholds = np.append(scores, np.array(max(scores)+1))"
   ]
  },
  {
   "cell_type": "code",
   "execution_count": 107,
   "metadata": {},
   "outputs": [],
   "source": [
    "my_thresholds = -np.sort(-my_thresholds)"
   ]
  },
  {
   "cell_type": "markdown",
   "metadata": {},
   "source": [
    "#### 사이킷런의 roc_curve 함수 구현"
   ]
  },
  {
   "cell_type": "code",
   "execution_count": 108,
   "metadata": {},
   "outputs": [
    {
     "name": "stdout",
     "output_type": "stream",
     "text": [
      "1.8 / score:  [0.1  0.4  0.35 0.8 ] / temp: [0, 0, 0, 0]\n",
      "tp:  0 , fp:  0 , tn:  2 , fn: 2\n",
      "tpr:  0.0 fpr:  0.0\n",
      "====================\n",
      "0.8 / score:  [0.1  0.4  0.35 0.8 ] / temp: [0, 0, 0, 1]\n",
      "tp:  1 , fp:  0 , tn:  2 , fn: 1\n",
      "tpr:  0.5 fpr:  0.0\n",
      "====================\n",
      "0.4 / score:  [0.1  0.4  0.35 0.8 ] / temp: [0, 1, 0, 1]\n",
      "tp:  1 , fp:  1 , tn:  1 , fn: 1\n",
      "tpr:  0.5 fpr:  0.5\n",
      "====================\n",
      "0.35 / score:  [0.1  0.4  0.35 0.8 ] / temp: [0, 1, 1, 1]\n",
      "tp:  2 , fp:  1 , tn:  1 , fn: 0\n",
      "tpr:  1.0 fpr:  0.5\n",
      "====================\n",
      "0.1 / score:  [0.1  0.4  0.35 0.8 ] / temp: [1, 1, 1, 1]\n",
      "tp:  2 , fp:  2 , tn:  0 , fn: 0\n",
      "tpr:  1.0 fpr:  1.0\n",
      "====================\n"
     ]
    }
   ],
   "source": [
    "my_fpr = []\n",
    "my_tpr = []\n",
    "\n",
    "# threshold 구현\n",
    "my_thresholds = np.append(scores, np.array(max(scores)+1))\n",
    "my_thresholds = -np.sort(-my_thresholds)\n",
    "\n",
    "# tpr, fpr 계산\n",
    "for i in range(len(thresholds)):\n",
    "    temp = []\n",
    "    for score in scores:\n",
    "        if(score >= thresholds[i]):\n",
    "            temp.append(1)\n",
    "        else:\n",
    "            temp.append(0)\n",
    "    print(thresholds[i], \"/ score: \", y_pred, \"/ temp:\", temp)\n",
    "    tp = fp = tn = fn = 0\n",
    "    for j in range(len(y)):\n",
    "        if((temp[j] == y[j]) & (temp[j] == pos_label)): # 모델 1, 실제 1\n",
    "            tp += 1\n",
    "        elif((temp[j] == y[j]) & (temp[j] != pos_label)): # 모델 0, 실제 0\n",
    "            tn += 1\n",
    "        elif((temp[j] != y[j]) & (temp[j] == pos_label)): # 모델 1, 실제 0\n",
    "            fp += 1\n",
    "            #print(temp[j], y[j], \"fp\")\n",
    "        elif((temp[j] != y[j]) & (temp[j] != pos_label)): # 모델 0, 실제 1\n",
    "           # print(temp[j], y[j], \"fn\")\n",
    "            fn += 1\n",
    "    print(\"tp: \", tp, \", fp: \", fp, \", tn: \", tn, \", fn:\", fn)\n",
    "    fpr = (1 - (tn / (tn+fp))) if (tn+fp) != 0 else 1\n",
    "    tpr = (tp / (tp+fn)) if (tp+fn) != 0 else 0\n",
    "    print(\"tpr: \", tpr, \"fpr: \", fpr)\n",
    "    print(\"=\"*20)\n",
    "    my_fpr.append(fpr)\n",
    "    my_tpr.append(tpr)\n",
    "\n",
    "\n",
    "my_fpr = np.array(my_fpr)\n",
    "my_tpr = np.array(my_tpr)"
   ]
  },
  {
   "cell_type": "code",
   "execution_count": 109,
   "metadata": {},
   "outputs": [
    {
     "data": {
      "text/plain": [
       "array([0. , 0. , 0.5, 0.5, 1. ])"
      ]
     },
     "execution_count": 109,
     "metadata": {},
     "output_type": "execute_result"
    }
   ],
   "source": [
    "my_fpr"
   ]
  },
  {
   "cell_type": "code",
   "execution_count": 110,
   "metadata": {},
   "outputs": [
    {
     "data": {
      "text/plain": [
       "array([0. , 0.5, 0.5, 1. , 1. ])"
      ]
     },
     "execution_count": 110,
     "metadata": {},
     "output_type": "execute_result"
    }
   ],
   "source": [
    "my_tpr"
   ]
  },
  {
   "cell_type": "code",
   "execution_count": 111,
   "metadata": {},
   "outputs": [
    {
     "data": {
      "text/plain": [
       "array([1.8 , 0.8 , 0.4 , 0.35, 0.1 ])"
      ]
     },
     "execution_count": 111,
     "metadata": {},
     "output_type": "execute_result"
    }
   ],
   "source": [
    "my_thresholds"
   ]
  },
  {
   "cell_type": "code",
   "execution_count": 112,
   "metadata": {},
   "outputs": [
    {
     "data": {
      "text/plain": [
       "array([ True,  True,  True,  True,  True])"
      ]
     },
     "execution_count": 112,
     "metadata": {},
     "output_type": "execute_result"
    }
   ],
   "source": [
    "my_fpr == skl_fpr"
   ]
  },
  {
   "cell_type": "code",
   "execution_count": 113,
   "metadata": {},
   "outputs": [
    {
     "data": {
      "text/plain": [
       "array([ True,  True,  True,  True,  True])"
      ]
     },
     "execution_count": 113,
     "metadata": {},
     "output_type": "execute_result"
    }
   ],
   "source": [
    "my_tpr == skl_tpr"
   ]
  },
  {
   "cell_type": "code",
   "execution_count": 114,
   "metadata": {},
   "outputs": [
    {
     "data": {
      "text/plain": [
       "array([ True,  True,  True,  True,  True])"
      ]
     },
     "execution_count": 114,
     "metadata": {},
     "output_type": "execute_result"
    }
   ],
   "source": [
    "my_thresholds == skl_thresholds"
   ]
  }
 ],
 "metadata": {
  "kernelspec": {
   "display_name": "Python 3",
   "language": "python",
   "name": "python3"
  },
  "language_info": {
   "codemirror_mode": {
    "name": "ipython",
    "version": 3
   },
   "file_extension": ".py",
   "mimetype": "text/x-python",
   "name": "python",
   "nbconvert_exporter": "python",
   "pygments_lexer": "ipython3",
   "version": "3.7.6"
  }
 },
 "nbformat": 4,
 "nbformat_minor": 4
}
