{
  "nbformat": 4,
  "nbformat_minor": 0,
  "metadata": {
    "colab": {
      "name": "stats_cal_ver0.2.ipynb",
      "provenance": [],
      "collapsed_sections": [],
      "authorship_tag": "ABX9TyPIxX617RFCu+6HCrLXHuKk",
      "include_colab_link": true
    },
    "kernelspec": {
      "name": "python3",
      "display_name": "Python 3"
    }
  },
  "cells": [
    {
      "cell_type": "markdown",
      "metadata": {
        "id": "view-in-github",
        "colab_type": "text"
      },
      "source": [
        "<a href=\"https://colab.research.google.com/github/sohyunwriter/ai-tech-archive/blob/master/stats_cal_ver0_2.ipynb\" target=\"_parent\"><img src=\"https://colab.research.google.com/assets/colab-badge.svg\" alt=\"Open In Colab\"/></a>"
      ]
    },
    {
      "cell_type": "markdown",
      "metadata": {
        "id": "t7dxU6lE7hst",
        "colab_type": "text"
      },
      "source": [
        "# dataset을 넣으면 기술통계를 산출하는 프로그램   \n",
        "\n",
        "3번째 셀의 datafile과 outputfileName만 수정하셔서 쓰시면 됩니다   \n",
        "\n",
        "input : 기술통계를 산출하고 싶은 데이터파일 (.xlsx, .csv)       \n",
        "outputset : 기술통계 결과 csv 파일 (.csv)    \n"
      ]
    },
    {
      "cell_type": "code",
      "metadata": {
        "id": "MPxEACOf7nPl",
        "colab_type": "code",
        "colab": {
          "base_uri": "https://localhost:8080/",
          "height": 73
        },
        "outputId": "208999be-6a2e-4074-fcf6-3e15063cb685"
      },
      "source": [
        "import pandas as pd\n",
        "from pandas import Series, DataFrame\n",
        "import numpy as np\n",
        "import seaborn as sns\n",
        "import matplotlib.pyplot as plt\n",
        "import warnings\n",
        "from collections import Counter\n",
        "warnings.filterwarnings('ignore')\n",
        "%matplotlib inline"
      ],
      "execution_count": 1,
      "outputs": [
        {
          "output_type": "stream",
          "text": [
            "/usr/local/lib/python3.6/dist-packages/statsmodels/tools/_testing.py:19: FutureWarning: pandas.util.testing is deprecated. Use the functions in the public API at pandas.testing instead.\n",
            "  import pandas.util.testing as tm\n"
          ],
          "name": "stderr"
        }
      ]
    },
    {
      "cell_type": "code",
      "metadata": {
        "id": "JgvybxNI7nbE",
        "colab_type": "code",
        "colab": {}
      },
      "source": [
        "datafile = \"C:\\\\Users\\\\lsglobal\\\\Documents\\\\lse\\\\scr_dataset_0.xlsx\"\n",
        "#datafile = r\"C:\\Users\\lsglobal\\Documents\\lsc\\data\\SCR_DataMart_111_1_ver0.3_20200724.csv\"\n",
        "ouputfileName = \"scr_summary_happy.csv\""
      ],
      "execution_count": 2,
      "outputs": []
    },
    {
      "cell_type": "code",
      "metadata": {
        "id": "BeqVonzt7nlt",
        "colab_type": "code",
        "colab": {}
      },
      "source": [
        "# read file and make df\n",
        "def knowFileExt(datafile):\n",
        "    return datafile.split(\".\")[-1]\n",
        "\n",
        "def file2df(datafile):\n",
        "    if (knowFileExt(datafile) == 'xlsx'):\n",
        "        df = pd.read_excel(datafile)\n",
        "    elif (knowFileExt(datafile) == 'csv'):\n",
        "        df = pd.read_csv(datafile, encoding='utf-8')\n",
        "    else:\n",
        "        raise Exception  # raise error\n",
        "    return df\n",
        "\n",
        "def float2int(df, ms):  # float, int 구분\n",
        "    for column in df.columns:\n",
        "        if (df[column].dtypes != 'O'):\n",
        "            if np.array_equal(df[column].dropna(), df[column].dropna().astype(int)):  # int values\n",
        "                #df[column] = df[column].astype(int)\n",
        "                ms.loc[column].type = np.arange(10, dtype='i').dtype\n",
        "    return ms\n",
        "\n",
        "def makeMS(df):  # 명세서 만들기\n",
        "    ms = df.dtypes.to_frame(name=\"type\")\n",
        "    name = []\n",
        "    for i in range(len(ms)):\n",
        "        if (df[ms.iloc[i].name].dtypes == 'O'):\n",
        "            name.append(\"명목\")\n",
        "        else:\n",
        "            name.append(\"비율\")\n",
        "    ms[\"name\"] = name\n",
        "    return ms\n",
        "\n",
        "\n",
        "def countUnique(df):  # 유일한 값 개수\n",
        "    unique_list = []\n",
        "    for i in range(len(df.columns)):\n",
        "        unique_list.append(len(df.iloc[:, i].unique()))\n",
        "\n",
        "    unique_series = pd.Series(unique_list, index=df.columns, name='유일한 값 개수')\n",
        "    return unique_series\n",
        "\n",
        "\n",
        "def multipleMostCommon(df, columnName):  # 열별로 최빈값 알아내기\n",
        "    commonList = Counter(df[columnName]).most_common()\n",
        "    mode_list = []\n",
        "    modeNum = commonList[0][1]\n",
        "    for i in range(len(commonList)):\n",
        "        if commonList[i][1] < modeNum:\n",
        "            break\n",
        "        elif commonList[i][1] == modeNum:\n",
        "            mode_list.append(commonList[i][0])\n",
        "    return mode_list\n",
        "\n",
        "\n",
        "def knowMostCommon(df):  # 최빈값\n",
        "    modelist = []\n",
        "    for i in range(len(df.columns)):\n",
        "        modelist.append(multipleMostCommon(df, df.columns[i]))\n",
        "    mode_series = pd.Series(modelist, index=df.columns, name='최빈값')\n",
        "    return mode_series\n",
        "\n",
        "\n",
        "def know_numericOrNon(ms, num):\n",
        "    numericList = []\n",
        "    nonNumericList = []\n",
        "    for i in range(len(ms)):\n",
        "        if ms.iloc[i].type != 'O':\n",
        "            numericList.append(ms.iloc[i].name)\n",
        "        else:\n",
        "            nonNumericList.append(ms.iloc[i].name)\n",
        "    if (num == 0):\n",
        "        return numericList\n",
        "    elif (num == 1):\n",
        "        return nonNumericList\n",
        "    else:\n",
        "        return\n",
        "\n",
        "def ds(df, ms):\n",
        "    summary = df.describe()  # 1사분위수, 2사분위수, 3사분위수, 중앙값, 평균\n",
        "    colName_series = ms.loc[:, 'name'].rename(\"구분\").astype(str)\n",
        "    count_series = df.count().rename(\"데이터 수\").astype(str)\n",
        "    unique_series = countUnique(df).rename(\"유일한 값 개수\").astype(str)\n",
        "    null_series = df.isnull().sum().rename(\"결측치 수\").astype(str)\n",
        "    mean_series = summary.loc['mean', :].rename(\"평균\")\n",
        "    median_series = summary.loc['50%'].rename(\"중앙값\")\n",
        "    mode_series = knowMostCommon(df).rename(\"최빈값\")\n",
        "    max_series = df.max(numeric_only=True).rename(\"최댓값\")\n",
        "    min_series = df.min(numeric_only=True).rename(\"최솟값\")\n",
        "    range_series = (max_series - min_series).rename(\"범위\")\n",
        "    per1_series = summary.loc['25%'].rename(\"1사분위수\")\n",
        "    per2_series = summary.loc['50%'].rename(\"2사분위수\")\n",
        "    per3_series = summary.loc['75%'].rename(\"3사분위수\")\n",
        "    std_series = summary.loc['std'].rename(\"표준편차\")\n",
        "    kurtosis_series = df.kurtosis().rename(\"첨도\")\n",
        "    skew_series = df.skew().rename(\"왜도\")\n",
        "    final = pd.concat([colName_series, count_series, unique_series, null_series, mean_series, \\\n",
        "                       median_series, mode_series, max_series, min_series, range_series, per1_series, \\\n",
        "                       per2_series, per3_series, std_series, kurtosis_series, skew_series], axis=1, ignore_index=False).T\n",
        "    final.fillna(\"해당 없음\", inplace=True)\n",
        "    return final\n",
        "\n",
        "    \"\"\"\n",
        "    def run():\n",
        "    df = file2df(datafile)  # dataframe 읽기\n",
        "    ms = float2int(df, makeMS(df)) # 명세서 만들기\n",
        "    final = ds(df, ms) # 기술통계 산출\n",
        "    final = final[df.columns] # 컬럼 정렬\n",
        "    final.to_csv(outputfile, encoding='utf-8-sig')\n",
        "\n",
        "\n",
        "    if __name__ == \"__main__\":\n",
        "      # execute only if run as a script\n",
        "      run()\n",
        "    \"\"\""
      ],
      "execution_count": 3,
      "outputs": []
    },
    {
      "cell_type": "code",
      "metadata": {
        "id": "KQUXOMn-7nuF",
        "colab_type": "code",
        "colab": {}
      },
      "source": [
        "df = pd.DataFrame({\"주조속도\": [200, 400, 300, 400, 500], \"원산지\": [\"미국\", \"미국\", \"한국\", \"한국\", \"중국\"], \"온도\": [20.0, 40.0, 35.0, 35.0, 40.0]})"
      ],
      "execution_count": 4,
      "outputs": []
    },
    {
      "cell_type": "code",
      "metadata": {
        "id": "BbX3H_b77n2U",
        "colab_type": "code",
        "colab": {
          "base_uri": "https://localhost:8080/",
          "height": 204
        },
        "outputId": "40be1dc1-5729-4db9-db81-28804b4cc2a3"
      },
      "source": [
        "df"
      ],
      "execution_count": 5,
      "outputs": [
        {
          "output_type": "execute_result",
          "data": {
            "text/html": [
              "<div>\n",
              "<style scoped>\n",
              "    .dataframe tbody tr th:only-of-type {\n",
              "        vertical-align: middle;\n",
              "    }\n",
              "\n",
              "    .dataframe tbody tr th {\n",
              "        vertical-align: top;\n",
              "    }\n",
              "\n",
              "    .dataframe thead th {\n",
              "        text-align: right;\n",
              "    }\n",
              "</style>\n",
              "<table border=\"1\" class=\"dataframe\">\n",
              "  <thead>\n",
              "    <tr style=\"text-align: right;\">\n",
              "      <th></th>\n",
              "      <th>주조속도</th>\n",
              "      <th>원산지</th>\n",
              "      <th>온도</th>\n",
              "    </tr>\n",
              "  </thead>\n",
              "  <tbody>\n",
              "    <tr>\n",
              "      <th>0</th>\n",
              "      <td>200</td>\n",
              "      <td>미국</td>\n",
              "      <td>20.0</td>\n",
              "    </tr>\n",
              "    <tr>\n",
              "      <th>1</th>\n",
              "      <td>400</td>\n",
              "      <td>미국</td>\n",
              "      <td>40.0</td>\n",
              "    </tr>\n",
              "    <tr>\n",
              "      <th>2</th>\n",
              "      <td>300</td>\n",
              "      <td>한국</td>\n",
              "      <td>35.0</td>\n",
              "    </tr>\n",
              "    <tr>\n",
              "      <th>3</th>\n",
              "      <td>400</td>\n",
              "      <td>한국</td>\n",
              "      <td>35.0</td>\n",
              "    </tr>\n",
              "    <tr>\n",
              "      <th>4</th>\n",
              "      <td>500</td>\n",
              "      <td>중국</td>\n",
              "      <td>40.0</td>\n",
              "    </tr>\n",
              "  </tbody>\n",
              "</table>\n",
              "</div>"
            ],
            "text/plain": [
              "   주조속도 원산지    온도\n",
              "0   200  미국  20.0\n",
              "1   400  미국  40.0\n",
              "2   300  한국  35.0\n",
              "3   400  한국  35.0\n",
              "4   500  중국  40.0"
            ]
          },
          "metadata": {
            "tags": []
          },
          "execution_count": 5
        }
      ]
    },
    {
      "cell_type": "code",
      "metadata": {
        "id": "783y13NR7n99",
        "colab_type": "code",
        "colab": {}
      },
      "source": [
        "ms = float2int(df, makeMS(df))"
      ],
      "execution_count": 7,
      "outputs": []
    },
    {
      "cell_type": "code",
      "metadata": {
        "id": "UfLEa7T78I91",
        "colab_type": "code",
        "colab": {
          "base_uri": "https://localhost:8080/",
          "height": 142
        },
        "outputId": "3dc7bab4-9f0a-41ca-ff78-c65740d3d9f7"
      },
      "source": [
        "ms"
      ],
      "execution_count": 9,
      "outputs": [
        {
          "output_type": "execute_result",
          "data": {
            "text/html": [
              "<div>\n",
              "<style scoped>\n",
              "    .dataframe tbody tr th:only-of-type {\n",
              "        vertical-align: middle;\n",
              "    }\n",
              "\n",
              "    .dataframe tbody tr th {\n",
              "        vertical-align: top;\n",
              "    }\n",
              "\n",
              "    .dataframe thead th {\n",
              "        text-align: right;\n",
              "    }\n",
              "</style>\n",
              "<table border=\"1\" class=\"dataframe\">\n",
              "  <thead>\n",
              "    <tr style=\"text-align: right;\">\n",
              "      <th></th>\n",
              "      <th>type</th>\n",
              "      <th>name</th>\n",
              "    </tr>\n",
              "  </thead>\n",
              "  <tbody>\n",
              "    <tr>\n",
              "      <th>주조속도</th>\n",
              "      <td>int32</td>\n",
              "      <td>비율</td>\n",
              "    </tr>\n",
              "    <tr>\n",
              "      <th>원산지</th>\n",
              "      <td>object</td>\n",
              "      <td>명목</td>\n",
              "    </tr>\n",
              "    <tr>\n",
              "      <th>온도</th>\n",
              "      <td>int32</td>\n",
              "      <td>비율</td>\n",
              "    </tr>\n",
              "  </tbody>\n",
              "</table>\n",
              "</div>"
            ],
            "text/plain": [
              "        type name\n",
              "주조속도   int32   비율\n",
              "원산지   object   명목\n",
              "온도     int32   비율"
            ]
          },
          "metadata": {
            "tags": []
          },
          "execution_count": 9
        }
      ]
    },
    {
      "cell_type": "code",
      "metadata": {
        "id": "dcIL5Gk98Euv",
        "colab_type": "code",
        "colab": {}
      },
      "source": [
        "final = ds(df, ms)"
      ],
      "execution_count": 8,
      "outputs": []
    },
    {
      "cell_type": "code",
      "metadata": {
        "id": "PUFp5ZeN8FBx",
        "colab_type": "code",
        "colab": {
          "base_uri": "https://localhost:8080/",
          "height": 545
        },
        "outputId": "be98cb25-cde1-4edc-bc22-3546e35e5db1"
      },
      "source": [
        "final"
      ],
      "execution_count": 10,
      "outputs": [
        {
          "output_type": "execute_result",
          "data": {
            "text/html": [
              "<div>\n",
              "<style scoped>\n",
              "    .dataframe tbody tr th:only-of-type {\n",
              "        vertical-align: middle;\n",
              "    }\n",
              "\n",
              "    .dataframe tbody tr th {\n",
              "        vertical-align: top;\n",
              "    }\n",
              "\n",
              "    .dataframe thead th {\n",
              "        text-align: right;\n",
              "    }\n",
              "</style>\n",
              "<table border=\"1\" class=\"dataframe\">\n",
              "  <thead>\n",
              "    <tr style=\"text-align: right;\">\n",
              "      <th></th>\n",
              "      <th>주조속도</th>\n",
              "      <th>원산지</th>\n",
              "      <th>온도</th>\n",
              "    </tr>\n",
              "  </thead>\n",
              "  <tbody>\n",
              "    <tr>\n",
              "      <th>구분</th>\n",
              "      <td>비율</td>\n",
              "      <td>명목</td>\n",
              "      <td>비율</td>\n",
              "    </tr>\n",
              "    <tr>\n",
              "      <th>데이터 수</th>\n",
              "      <td>5</td>\n",
              "      <td>5</td>\n",
              "      <td>5</td>\n",
              "    </tr>\n",
              "    <tr>\n",
              "      <th>유일한 값 개수</th>\n",
              "      <td>4</td>\n",
              "      <td>3</td>\n",
              "      <td>3</td>\n",
              "    </tr>\n",
              "    <tr>\n",
              "      <th>결측치 수</th>\n",
              "      <td>0</td>\n",
              "      <td>0</td>\n",
              "      <td>0</td>\n",
              "    </tr>\n",
              "    <tr>\n",
              "      <th>평균</th>\n",
              "      <td>360</td>\n",
              "      <td>해당 없음</td>\n",
              "      <td>34</td>\n",
              "    </tr>\n",
              "    <tr>\n",
              "      <th>중앙값</th>\n",
              "      <td>400</td>\n",
              "      <td>해당 없음</td>\n",
              "      <td>35</td>\n",
              "    </tr>\n",
              "    <tr>\n",
              "      <th>최빈값</th>\n",
              "      <td>[400]</td>\n",
              "      <td>[미국, 한국]</td>\n",
              "      <td>[40.0, 35.0]</td>\n",
              "    </tr>\n",
              "    <tr>\n",
              "      <th>최댓값</th>\n",
              "      <td>500</td>\n",
              "      <td>해당 없음</td>\n",
              "      <td>40</td>\n",
              "    </tr>\n",
              "    <tr>\n",
              "      <th>최솟값</th>\n",
              "      <td>200</td>\n",
              "      <td>해당 없음</td>\n",
              "      <td>20</td>\n",
              "    </tr>\n",
              "    <tr>\n",
              "      <th>범위</th>\n",
              "      <td>300</td>\n",
              "      <td>해당 없음</td>\n",
              "      <td>20</td>\n",
              "    </tr>\n",
              "    <tr>\n",
              "      <th>1사분위수</th>\n",
              "      <td>300</td>\n",
              "      <td>해당 없음</td>\n",
              "      <td>35</td>\n",
              "    </tr>\n",
              "    <tr>\n",
              "      <th>2사분위수</th>\n",
              "      <td>400</td>\n",
              "      <td>해당 없음</td>\n",
              "      <td>35</td>\n",
              "    </tr>\n",
              "    <tr>\n",
              "      <th>3사분위수</th>\n",
              "      <td>400</td>\n",
              "      <td>해당 없음</td>\n",
              "      <td>40</td>\n",
              "    </tr>\n",
              "    <tr>\n",
              "      <th>표준편차</th>\n",
              "      <td>114.018</td>\n",
              "      <td>해당 없음</td>\n",
              "      <td>8.21584</td>\n",
              "    </tr>\n",
              "    <tr>\n",
              "      <th>첨도</th>\n",
              "      <td>-0.177515</td>\n",
              "      <td>해당 없음</td>\n",
              "      <td>3.25103</td>\n",
              "    </tr>\n",
              "    <tr>\n",
              "      <th>왜도</th>\n",
              "      <td>-0.404796</td>\n",
              "      <td>해당 없음</td>\n",
              "      <td>-1.73558</td>\n",
              "    </tr>\n",
              "  </tbody>\n",
              "</table>\n",
              "</div>"
            ],
            "text/plain": [
              "              주조속도       원산지            온도\n",
              "구분              비율        명목            비율\n",
              "데이터 수            5         5             5\n",
              "유일한 값 개수         4         3             3\n",
              "결측치 수            0         0             0\n",
              "평균             360     해당 없음            34\n",
              "중앙값            400     해당 없음            35\n",
              "최빈값          [400]  [미국, 한국]  [40.0, 35.0]\n",
              "최댓값            500     해당 없음            40\n",
              "최솟값            200     해당 없음            20\n",
              "범위             300     해당 없음            20\n",
              "1사분위수          300     해당 없음            35\n",
              "2사분위수          400     해당 없음            35\n",
              "3사분위수          400     해당 없음            40\n",
              "표준편차       114.018     해당 없음       8.21584\n",
              "첨도       -0.177515     해당 없음       3.25103\n",
              "왜도       -0.404796     해당 없음      -1.73558"
            ]
          },
          "metadata": {
            "tags": []
          },
          "execution_count": 10
        }
      ]
    },
    {
      "cell_type": "code",
      "metadata": {
        "id": "LSXx9bS88TnG",
        "colab_type": "code",
        "colab": {}
      },
      "source": [
        "# int 변환, 반올림, 콤마 -> 코드 추가 필요 "
      ],
      "execution_count": null,
      "outputs": []
    },
    {
      "cell_type": "code",
      "metadata": {
        "id": "YKqbBCPV8OKg",
        "colab_type": "code",
        "colab": {}
      },
      "source": [
        "final.to_csv(ouputfileName, encoding='utf-8-sig')"
      ],
      "execution_count": null,
      "outputs": []
    }
  ]
}